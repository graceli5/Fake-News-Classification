{
 "cells": [
  {
   "cell_type": "markdown",
   "id": "37067035",
   "metadata": {},
   "source": [
    "# Fake News Classification\n",
    "\n",
    "### Grace Li"
   ]
  },
  {
   "cell_type": "markdown",
   "id": "477e4a63",
   "metadata": {},
   "source": [
    "Outline:\n",
    "1. Construct a new TensorFlow dataset with cleaned and vectorized text data\n",
    "2. Build neural network models that classify whether an article is fake or real news. One model takes in just the article title, one takes in just the text, and one takes in both using a functional API\n",
    "3. Plot and evaluate training vs validation data\n",
    "4. Compare which model performed best to decide the optimal method of detecting fake news"
   ]
  },
  {
   "cell_type": "markdown",
   "id": "f6c4b350",
   "metadata": {},
   "source": [
    "## Import Libraries"
   ]
  },
  {
   "cell_type": "code",
   "execution_count": 1,
   "id": "cde8b15c",
   "metadata": {},
   "outputs": [],
   "source": [
    "import numpy as np\n",
    "import pandas as pd\n",
    "import tensorflow as tf\n",
    "import matplotlib.pyplot as plt\n",
    "from nltk.corpus import stopwords\n",
    "import string\n",
    "import re\n",
    "\n",
    "from tensorflow import keras\n",
    "from tensorflow.keras import layers, Model, Input, losses\n",
    "from tensorflow.keras import losses"
   ]
  },
  {
   "cell_type": "markdown",
   "id": "9afae506",
   "metadata": {},
   "source": [
    "## Acquiring data\n",
    "\n",
    "First I read the csv file from the given link \n",
    "\n",
    "    train_url = \"https://github.com/PhilChodrow/PIC16b/blob/master/datasets/fake_news_train.csv?raw=true\""
   ]
  },
  {
   "cell_type": "code",
   "execution_count": 2,
   "id": "c333ca3c",
   "metadata": {},
   "outputs": [
    {
     "data": {
      "text/html": [
       "<div>\n",
       "<style scoped>\n",
       "    .dataframe tbody tr th:only-of-type {\n",
       "        vertical-align: middle;\n",
       "    }\n",
       "\n",
       "    .dataframe tbody tr th {\n",
       "        vertical-align: top;\n",
       "    }\n",
       "\n",
       "    .dataframe thead th {\n",
       "        text-align: right;\n",
       "    }\n",
       "</style>\n",
       "<table border=\"1\" class=\"dataframe\">\n",
       "  <thead>\n",
       "    <tr style=\"text-align: right;\">\n",
       "      <th></th>\n",
       "      <th>title</th>\n",
       "      <th>text</th>\n",
       "      <th>fake</th>\n",
       "    </tr>\n",
       "  </thead>\n",
       "  <tbody>\n",
       "    <tr>\n",
       "      <th>0</th>\n",
       "      <td>Merkel: Strong result for Austria's FPO 'big c...</td>\n",
       "      <td>German Chancellor Angela Merkel said on Monday...</td>\n",
       "      <td>0</td>\n",
       "    </tr>\n",
       "    <tr>\n",
       "      <th>1</th>\n",
       "      <td>Trump says Pence will lead voter fraud panel</td>\n",
       "      <td>WEST PALM BEACH, Fla.President Donald Trump sa...</td>\n",
       "      <td>0</td>\n",
       "    </tr>\n",
       "    <tr>\n",
       "      <th>2</th>\n",
       "      <td>JUST IN: SUSPECTED LEAKER and “Close Confidant...</td>\n",
       "      <td>On December 5, 2017, Circa s Sara Carter warne...</td>\n",
       "      <td>1</td>\n",
       "    </tr>\n",
       "    <tr>\n",
       "      <th>3</th>\n",
       "      <td>Thyssenkrupp has offered help to Argentina ove...</td>\n",
       "      <td>Germany s Thyssenkrupp, has offered assistance...</td>\n",
       "      <td>0</td>\n",
       "    </tr>\n",
       "    <tr>\n",
       "      <th>4</th>\n",
       "      <td>Trump say appeals court decision on travel ban...</td>\n",
       "      <td>President Donald Trump on Thursday called the ...</td>\n",
       "      <td>0</td>\n",
       "    </tr>\n",
       "  </tbody>\n",
       "</table>\n",
       "</div>"
      ],
      "text/plain": [
       "                                               title  \\\n",
       "0  Merkel: Strong result for Austria's FPO 'big c...   \n",
       "1       Trump says Pence will lead voter fraud panel   \n",
       "2  JUST IN: SUSPECTED LEAKER and “Close Confidant...   \n",
       "3  Thyssenkrupp has offered help to Argentina ove...   \n",
       "4  Trump say appeals court decision on travel ban...   \n",
       "\n",
       "                                                text  fake  \n",
       "0  German Chancellor Angela Merkel said on Monday...     0  \n",
       "1  WEST PALM BEACH, Fla.President Donald Trump sa...     0  \n",
       "2  On December 5, 2017, Circa s Sara Carter warne...     1  \n",
       "3  Germany s Thyssenkrupp, has offered assistance...     0  \n",
       "4  President Donald Trump on Thursday called the ...     0  "
      ]
     },
     "execution_count": 2,
     "metadata": {},
     "output_type": "execute_result"
    }
   ],
   "source": [
    "#read url\n",
    "df = pd.read_csv(f'https://github.com/PhilChodrow/PIC16b/blob/master/datasets/fake_news_train.csv?raw=true')\n",
    "\n",
    "#keep only necessary columns\n",
    "df = df[[\"title\", \"text\", \"fake\"]]\n",
    "\n",
    "#make sure our dataset loaded appropriately\n",
    "df.head()"
   ]
  },
  {
   "cell_type": "markdown",
   "id": "5057e884",
   "metadata": {},
   "source": [
    "Notice this dataframe contains the title of articles, the full text from that article, and a binary indication of whether the article is fake news."
   ]
  },
  {
   "cell_type": "markdown",
   "id": "7ccc187a",
   "metadata": {},
   "source": [
    "## Make Datasets\n",
    "\n",
    "Now I create function called `make_dataset`. This function will do four things:\n",
    "\n",
    "1. Change the text to lowercase.\n",
    "\n",
    "2. Remove stopwords from the article text and title. A stopword is a word that is usually considered to be uninformative, such as “the,” “and,” or “but”. \n",
    "\n",
    "3. Construct and return a tf.data.Dataset with two inputs and one output. The input will be of the form (title, text), and the output consists only of the fake column.\n",
    "\n",
    "4. Batch the dataset prior to returning it in order to increase speed of training, found that batches of 50 rows work best to preserve accuracy."
   ]
  },
  {
   "cell_type": "code",
   "execution_count": 3,
   "id": "f45e5c51",
   "metadata": {},
   "outputs": [],
   "source": [
    "def make_dataset(df):\n",
    "    '''\n",
    "    Takes in a dataframe, changes all its text to lowercase and removes stopwords,\n",
    "    then converts the dataset to a tensorflow dataset and returns the batched dataset\n",
    "    \n",
    "    Parameters:\n",
    "    df: a pd data frame, in our case it has title, text, and fake columns\n",
    "    \n",
    "    Returns:\n",
    "    dataset: a tf dataset that has one input in the form (title, text) and one output which is the fake column\n",
    "    \n",
    "    '''\n",
    "    \n",
    "    \n",
    "    #define collection of stopwords\n",
    "    stop = stopwords.words('english')\n",
    "    \n",
    "    # remove capital letters by changing all to lowercase\n",
    "    df['text'] = df['text'].str.lower()\n",
    "    df['title'] = df['title'].str.lower()\n",
    "    \n",
    "    #remove stopwords\n",
    "    df['text'] = df['text'].apply(lambda x: ' '.join([word for word in x.split() if word not in (stop)]))\n",
    "    df['title'] = df['title'].apply(lambda x: ' '.join([word for word in x.split() if word not in (stop)]))\n",
    "    \n",
    "    # Convert columns to TensorFlow tensors\n",
    "    titles = tf.constant(df['title'].values, dtype=tf.string)\n",
    "    texts = tf.constant(df['text'].values, dtype=tf.string)\n",
    "    labels = tf.constant(df['fake'].values, dtype=tf.int32)\n",
    "    \n",
    "    #make tf dataset with two inputs (title, text) and one output (fake column)\n",
    "    dataset = tf.data.Dataset.from_tensor_slices((\n",
    "        {\"title\": titles, \"text\": texts}, \n",
    "        labels\n",
    "    ))\n",
    "    \n",
    "    #batch dataset with 50 row batches\n",
    "    dataset = dataset.batch(50)\n",
    "    \n",
    "    #return new dataset\n",
    "    return dataset\n",
    "    \n",
    "dataset = make_dataset(df)\n"
   ]
  },
  {
   "cell_type": "markdown",
   "id": "963c12d6",
   "metadata": {},
   "source": [
    "## Train test split:\n",
    "\n",
    "Next, I write a function `train_test_split` to do train test split for any tensorflow dataset and use the function on our dataset with 80% training size and 20% validation."
   ]
  },
  {
   "cell_type": "code",
   "execution_count": 4,
   "id": "630c2489",
   "metadata": {},
   "outputs": [],
   "source": [
    "def train_test_split (dataset, train_percent):\n",
    "    '''\n",
    "    Perform train test split on any tensorflow dataset\n",
    "    \n",
    "    Parameters:\n",
    "    dataset: a tensorflow dataset\n",
    "    train_percent: a float between 0 and 1 that represents the proportion of training data desired.\n",
    "    (for ex 0.8 means we want 80% training data and 20% validation during our split)\n",
    "    \n",
    "    Returns\n",
    "    train: subset of original tensorflow dataset that contains training data\n",
    "    test: subset of original tensorflow dataset that contains validation data\n",
    "    '''\n",
    "    \n",
    "    #shuffle dataset to randomize samples chosen\n",
    "    dataset = dataset.shuffle(buffer_size = len(dataset))\n",
    "    \n",
    "    #identify number of samples to be taken for train and validation data based on train_percent argument\n",
    "    train_size = int(train_percent*len(dataset))\n",
    "    val_size   = len(dataset) - train_size\n",
    "    \n",
    "    #pull out train and validation samples\n",
    "    train = dataset.take(train_size)\n",
    "    test   = dataset.skip(train_size).take(val_size)\n",
    "    \n",
    "    return train, test\n",
    "\n",
    "#preform train test split on our dataset with 80% training data\n",
    "train, test = train_test_split (dataset, 0.8)"
   ]
  },
  {
   "cell_type": "markdown",
   "id": "577346fd",
   "metadata": {},
   "source": [
    "## Text vectorization\n",
    "\n",
    "Vectorize both the title and text data including standardization to prepare for neural network input.\n",
    "\n"
   ]
  },
  {
   "cell_type": "code",
   "execution_count": 5,
   "id": "db60aff9",
   "metadata": {},
   "outputs": [
    {
     "name": "stderr",
     "output_type": "stream",
     "text": [
      "2024-06-02 17:19:46.512189: W tensorflow/core/framework/local_rendezvous.cc:404] Local rendezvous is aborting with status: OUT_OF_RANGE: End of sequence\n",
      "2024-06-02 17:19:47.279122: W tensorflow/core/framework/local_rendezvous.cc:404] Local rendezvous is aborting with status: OUT_OF_RANGE: End of sequence\n"
     ]
    }
   ],
   "source": [
    "#preparing a text vectorization layer for tf model\n",
    "size_vocabulary = 2000\n",
    "\n",
    "def standardization(input_data):\n",
    "    '''Remove punctuation on the input_data and return updated dataset. \n",
    "    Necessary standardization step to prepare for vectorization.\n",
    "    '''\n",
    "    no_punctuation = tf.strings.regex_replace(input_data,\n",
    "                              '[%s]' % re.escape(string.punctuation),'')\n",
    "    return no_punctuation \n",
    "\n",
    "# Vectorize titles\n",
    "title_vectorize_layer = tf.keras.layers.TextVectorization(\n",
    "    standardize=standardization,\n",
    "    max_tokens=size_vocabulary,\n",
    "    output_mode='int',\n",
    "    output_sequence_length=500\n",
    ")\n",
    "\n",
    "# Vectorize texts\n",
    "text_vectorize_layer = tf.keras.layers.TextVectorization(\n",
    "    standardize=standardization,\n",
    "    max_tokens=size_vocabulary,\n",
    "    output_mode='int',\n",
    "    output_sequence_length=500\n",
    ")\n",
    "\n",
    "# Adapt the vectorization layers to the datasets\n",
    "title_vectorize_layer.adapt(train.map(lambda x, y: x[\"title\"]))\n",
    "text_vectorize_layer.adapt(train.map(lambda x, y: x[\"text\"]))"
   ]
  },
  {
   "cell_type": "markdown",
   "id": "437a599f",
   "metadata": {},
   "source": [
    "## Create Models\n",
    "\n",
    "Now that the data is prepared and vectorized, we can create some models.\n",
    "\n",
    "Our Keras models will offer a perspective on the following question:\n",
    "\n",
    "    `When detecting fake news, is it most effective to focus on only the title of the article, the full text of the article, or both?`\n",
    "\n",
    "\n",
    "To address this question, I will create three models.\n",
    "\n",
    "In the first model, I use only the article title as an input (Sequential API).\n",
    "\n",
    "In the second model, I use only the article text as an input (Sequential API).\n",
    "\n",
    "In the third model, I use both the article title and the article text as input (Functional API).\n",
    "\n",
    "I will train models on the training data until they appear to be “fully” trained based on visualization of the training histories."
   ]
  },
  {
   "cell_type": "markdown",
   "id": "dafc3d5a",
   "metadata": {},
   "source": [
    "### Title Model"
   ]
  },
  {
   "cell_type": "code",
   "execution_count": 6,
   "id": "c393d03a",
   "metadata": {},
   "outputs": [
    {
     "name": "stdout",
     "output_type": "stream",
     "text": [
      "\u001b[1m90/90\u001b[0m \u001b[32m━━━━━━━━━━━━━━━━━━━━\u001b[0m\u001b[37m\u001b[0m \u001b[1m0s\u001b[0m 375us/step - accuracy: 0.8223 - loss: 0.3535\n"
     ]
    },
    {
     "data": {
      "text/plain": [
       "<matplotlib.legend.Legend at 0x2c729aa50>"
      ]
     },
     "execution_count": 6,
     "metadata": {},
     "output_type": "execute_result"
    },
    {
     "data": {
      "image/png": "[encoded data removed]",
      "text/plain": [
       "<Figure size 640x480 with 1 Axes>"
      ]
     },
     "metadata": {},
     "output_type": "display_data"
    }
   ],
   "source": [
    "# Apply the vectorization layer to the dataset\n",
    "title_train_vec = train.map(lambda x, y: (title_vectorize_layer(x[\"title\"]), y))\n",
    "title_test_vec = test.map(lambda x, y: (title_vectorize_layer(x[\"title\"]), y))\n",
    "\n",
    "#construct sequential model\n",
    "title_model = tf.keras.Sequential([\n",
    "  layers.Embedding(input_dim=2000, output_dim=5),\n",
    "  layers.Dropout(0.4), #avoid overfitting\n",
    "  layers.GlobalAveragePooling1D(),\n",
    "  layers.Dropout(0.2),\n",
    "  layers.Dense(32, activation = \"relu\"), #improve accuracy\n",
    "  layers.Dense(2)\n",
    "])\n",
    "\n",
    "#compile model\n",
    "title_model.compile(loss=losses.SparseCategoricalCrossentropy(from_logits=True),\n",
    "              optimizer='adam', \n",
    "              metrics=['accuracy'])\n",
    "\n",
    "#fit model\n",
    "history = title_model.fit(title_train_vec, epochs = 25, validation_data = title_test_vec,  verbose = 0)\n",
    "\n",
    "#evaluate accuracy on our 20% testing data (will perform on new testing data for the \"best\" model later)\n",
    "title_model.evaluate(title_test_vec)\n",
    "\n",
    "#plot results using info stored in history variable\n",
    "plt.plot(history.history[\"accuracy\"], label = \"training\")\n",
    "plt.plot(history.history[\"val_accuracy\"], label = \"validation\")\n",
    "plt.gca().set(xlabel = \"epoch\", ylabel = \"accuracy\")\n",
    "plt.legend()\n"
   ]
  },
  {
   "cell_type": "markdown",
   "id": "1e589c30",
   "metadata": {},
   "source": [
    "Commentary:\n",
    "- I needed 25 epochs to obtain a relatively flattened out (\"fully trained\") model. I started with closer to 10 but that did not prove to be enough to obtain highest possible accuracy.\n",
    "- Some modifications I played around with while makind the model was adding dropout layers, which proved to lower my overfitting. Additionally, I added another dense layer before the output layer which increased my accuracy significantly. Lastly, I found that changing the embedding layer output dimension to 5 yielded best results"
   ]
  },
  {
   "cell_type": "markdown",
   "id": "25004245",
   "metadata": {},
   "source": [
    "### Text model"
   ]
  },
  {
   "cell_type": "code",
   "execution_count": 7,
   "id": "4b0b18dd",
   "metadata": {},
   "outputs": [
    {
     "name": "stdout",
     "output_type": "stream",
     "text": [
      "\u001b[1m90/90\u001b[0m \u001b[32m━━━━━━━━━━━━━━━━━━━━\u001b[0m\u001b[37m\u001b[0m \u001b[1m0s\u001b[0m 1ms/step - accuracy: 0.9738 - loss: 0.1543\n"
     ]
    },
    {
     "data": {
      "text/plain": [
       "<matplotlib.legend.Legend at 0x2c60e24d0>"
      ]
     },
     "execution_count": 7,
     "metadata": {},
     "output_type": "execute_result"
    },
    {
     "data": {
      "image/png": "[encoded data removed]",
      "text/plain": [
       "<Figure size 640x480 with 1 Axes>"
      ]
     },
     "metadata": {},
     "output_type": "display_data"
    }
   ],
   "source": [
    "# Apply the vectorization layer to the dataset\n",
    "text_train_vec = train.map(lambda x, y: (text_vectorize_layer(x[\"text\"]), y))\n",
    "text_test_vec = test.map(lambda x, y: (text_vectorize_layer(x[\"text\"]), y))\n",
    "\n",
    "#create model\n",
    "title_model = tf.keras.Sequential([\n",
    "  layers.Embedding(input_dim=2000, output_dim=3),\n",
    "  layers.Dropout(0.2), #avoid overfitting\n",
    "  layers.GlobalAveragePooling1D(),\n",
    "  layers.Dropout(0.2),\n",
    "  layers.Dense(2)\n",
    "])\n",
    "\n",
    "#compile model\n",
    "title_model.compile(loss=losses.SparseCategoricalCrossentropy(from_logits=True),\n",
    "              optimizer='adam', \n",
    "              metrics=['accuracy'])\n",
    "\n",
    "#fit model\n",
    "history = title_model.fit(text_train_vec, epochs = 10, validation_data = text_test_vec, verbose = 0)\n",
    "\n",
    "#evaluate accuracy on our 20% testing data (will perform on new testing data for the \"best\" model later)\n",
    "title_model.evaluate(text_test_vec)\n",
    "\n",
    "#plot results using info stored in history variable\n",
    "plt.plot(history.history[\"accuracy\"], label = \"training\")\n",
    "plt.plot(history.history[\"val_accuracy\"], label = \"validation\")\n",
    "plt.gca().set(xlabel = \"epoch\", ylabel = \"accuracy\")\n",
    "plt.legend()"
   ]
  },
  {
   "cell_type": "markdown",
   "id": "b749e9ce",
   "metadata": {},
   "source": [
    "Commentary:\n",
    "- This time I only needed 10 epochs to obtain a well trained model, because the line flattened out in accuracy much quicker\n",
    "- This model appears to be much more consistent in it's ability to predict fake news correctly based on the validation data\n",
    "- I created a much simpler model this time because adding layers was not necessary to increase accuracy. However like last time, I did include dropout layers to limit overfitting. I found that this time an embedding layer dimension of 3 yielded the best results "
   ]
  },
  {
   "cell_type": "markdown",
   "id": "b65dbc06",
   "metadata": {},
   "source": [
    "### Text and Title model"
   ]
  },
  {
   "cell_type": "code",
   "execution_count": 8,
   "id": "41868a8f",
   "metadata": {},
   "outputs": [
    {
     "name": "stderr",
     "output_type": "stream",
     "text": [
      "2024-06-02 17:20:06.479336: W tensorflow/core/framework/local_rendezvous.cc:404] Local rendezvous is aborting with status: OUT_OF_RANGE: End of sequence\n"
     ]
    },
    {
     "data": {
      "text/html": [
       "<pre style=\"white-space:pre;overflow-x:auto;line-height:normal;font-family:Menlo,'DejaVu Sans Mono',consolas,'Courier New',monospace\"><span style=\"font-weight: bold\">Model: \"functional_3\"</span>\n",
       "</pre>\n"
      ],
      "text/plain": [
       "\u001b[1mModel: \"functional_3\"\u001b[0m\n"
      ]
     },
     "metadata": {},
     "output_type": "display_data"
    },
    {
     "data": {
      "text/html": [
       "<pre style=\"white-space:pre;overflow-x:auto;line-height:normal;font-family:Menlo,'DejaVu Sans Mono',consolas,'Courier New',monospace\">┏━━━━━━━━━━━━━━━━━━━━━┳━━━━━━━━━━━━━━━━━━━┳━━━━━━━━━━━━┳━━━━━━━━━━━━━━━━━━━┓\n",
       "┃<span style=\"font-weight: bold\"> Layer (type)        </span>┃<span style=\"font-weight: bold\"> Output Shape      </span>┃<span style=\"font-weight: bold\">    Param # </span>┃<span style=\"font-weight: bold\"> Connected to      </span>┃\n",
       "┡━━━━━━━━━━━━━━━━━━━━━╇━━━━━━━━━━━━━━━━━━━╇━━━━━━━━━━━━╇━━━━━━━━━━━━━━━━━━━┩\n",
       "│ title (<span style=\"color: #0087ff; text-decoration-color: #0087ff\">InputLayer</span>)  │ (<span style=\"color: #00d7ff; text-decoration-color: #00d7ff\">None</span>, <span style=\"color: #00af00; text-decoration-color: #00af00\">1</span>)         │          <span style=\"color: #00af00; text-decoration-color: #00af00\">0</span> │ -                 │\n",
       "├─────────────────────┼───────────────────┼────────────┼───────────────────┤\n",
       "│ text (<span style=\"color: #0087ff; text-decoration-color: #0087ff\">InputLayer</span>)   │ (<span style=\"color: #00d7ff; text-decoration-color: #00d7ff\">None</span>, <span style=\"color: #00af00; text-decoration-color: #00af00\">1</span>)         │          <span style=\"color: #00af00; text-decoration-color: #00af00\">0</span> │ -                 │\n",
       "├─────────────────────┼───────────────────┼────────────┼───────────────────┤\n",
       "│ text_vectorization… │ (<span style=\"color: #00d7ff; text-decoration-color: #00d7ff\">None</span>, <span style=\"color: #00af00; text-decoration-color: #00af00\">500</span>)       │          <span style=\"color: #00af00; text-decoration-color: #00af00\">0</span> │ title[<span style=\"color: #00af00; text-decoration-color: #00af00\">0</span>][<span style=\"color: #00af00; text-decoration-color: #00af00\">0</span>],      │\n",
       "│ (<span style=\"color: #0087ff; text-decoration-color: #0087ff\">TextVectorization</span>) │                   │            │ text[<span style=\"color: #00af00; text-decoration-color: #00af00\">0</span>][<span style=\"color: #00af00; text-decoration-color: #00af00\">0</span>]        │\n",
       "├─────────────────────┼───────────────────┼────────────┼───────────────────┤\n",
       "│ embedding_2         │ (<span style=\"color: #00d7ff; text-decoration-color: #00d7ff\">None</span>, <span style=\"color: #00af00; text-decoration-color: #00af00\">500</span>, <span style=\"color: #00af00; text-decoration-color: #00af00\">3</span>)    │      <span style=\"color: #00af00; text-decoration-color: #00af00\">6,000</span> │ text_vectorizati… │\n",
       "│ (<span style=\"color: #0087ff; text-decoration-color: #0087ff\">Embedding</span>)         │                   │            │ text_vectorizati… │\n",
       "├─────────────────────┼───────────────────┼────────────┼───────────────────┤\n",
       "│ dropout_4 (<span style=\"color: #0087ff; text-decoration-color: #0087ff\">Dropout</span>) │ (<span style=\"color: #00d7ff; text-decoration-color: #00d7ff\">None</span>, <span style=\"color: #00af00; text-decoration-color: #00af00\">500</span>, <span style=\"color: #00af00; text-decoration-color: #00af00\">3</span>)    │          <span style=\"color: #00af00; text-decoration-color: #00af00\">0</span> │ embedding_2[<span style=\"color: #00af00; text-decoration-color: #00af00\">0</span>][<span style=\"color: #00af00; text-decoration-color: #00af00\">0</span>] │\n",
       "├─────────────────────┼───────────────────┼────────────┼───────────────────┤\n",
       "│ dropout_5 (<span style=\"color: #0087ff; text-decoration-color: #0087ff\">Dropout</span>) │ (<span style=\"color: #00d7ff; text-decoration-color: #00d7ff\">None</span>, <span style=\"color: #00af00; text-decoration-color: #00af00\">500</span>, <span style=\"color: #00af00; text-decoration-color: #00af00\">3</span>)    │          <span style=\"color: #00af00; text-decoration-color: #00af00\">0</span> │ embedding_2[<span style=\"color: #00af00; text-decoration-color: #00af00\">1</span>][<span style=\"color: #00af00; text-decoration-color: #00af00\">0</span>] │\n",
       "├─────────────────────┼───────────────────┼────────────┼───────────────────┤\n",
       "│ global_average_poo… │ (<span style=\"color: #00d7ff; text-decoration-color: #00d7ff\">None</span>, <span style=\"color: #00af00; text-decoration-color: #00af00\">3</span>)         │          <span style=\"color: #00af00; text-decoration-color: #00af00\">0</span> │ dropout_4[<span style=\"color: #00af00; text-decoration-color: #00af00\">0</span>][<span style=\"color: #00af00; text-decoration-color: #00af00\">0</span>]   │\n",
       "│ (<span style=\"color: #0087ff; text-decoration-color: #0087ff\">GlobalAveragePool…</span> │                   │            │                   │\n",
       "├─────────────────────┼───────────────────┼────────────┼───────────────────┤\n",
       "│ global_average_poo… │ (<span style=\"color: #00d7ff; text-decoration-color: #00d7ff\">None</span>, <span style=\"color: #00af00; text-decoration-color: #00af00\">3</span>)         │          <span style=\"color: #00af00; text-decoration-color: #00af00\">0</span> │ dropout_5[<span style=\"color: #00af00; text-decoration-color: #00af00\">0</span>][<span style=\"color: #00af00; text-decoration-color: #00af00\">0</span>]   │\n",
       "│ (<span style=\"color: #0087ff; text-decoration-color: #0087ff\">GlobalAveragePool…</span> │                   │            │                   │\n",
       "├─────────────────────┼───────────────────┼────────────┼───────────────────┤\n",
       "│ concatenate         │ (<span style=\"color: #00d7ff; text-decoration-color: #00d7ff\">None</span>, <span style=\"color: #00af00; text-decoration-color: #00af00\">6</span>)         │          <span style=\"color: #00af00; text-decoration-color: #00af00\">0</span> │ global_average_p… │\n",
       "│ (<span style=\"color: #0087ff; text-decoration-color: #0087ff\">Concatenate</span>)       │                   │            │ global_average_p… │\n",
       "├─────────────────────┼───────────────────┼────────────┼───────────────────┤\n",
       "│ dense_3 (<span style=\"color: #0087ff; text-decoration-color: #0087ff\">Dense</span>)     │ (<span style=\"color: #00d7ff; text-decoration-color: #00d7ff\">None</span>, <span style=\"color: #00af00; text-decoration-color: #00af00\">32</span>)        │        <span style=\"color: #00af00; text-decoration-color: #00af00\">224</span> │ concatenate[<span style=\"color: #00af00; text-decoration-color: #00af00\">0</span>][<span style=\"color: #00af00; text-decoration-color: #00af00\">0</span>] │\n",
       "├─────────────────────┼───────────────────┼────────────┼───────────────────┤\n",
       "│ dropout_6 (<span style=\"color: #0087ff; text-decoration-color: #0087ff\">Dropout</span>) │ (<span style=\"color: #00d7ff; text-decoration-color: #00d7ff\">None</span>, <span style=\"color: #00af00; text-decoration-color: #00af00\">32</span>)        │          <span style=\"color: #00af00; text-decoration-color: #00af00\">0</span> │ dense_3[<span style=\"color: #00af00; text-decoration-color: #00af00\">0</span>][<span style=\"color: #00af00; text-decoration-color: #00af00\">0</span>]     │\n",
       "├─────────────────────┼───────────────────┼────────────┼───────────────────┤\n",
       "│ dense_4 (<span style=\"color: #0087ff; text-decoration-color: #0087ff\">Dense</span>)     │ (<span style=\"color: #00d7ff; text-decoration-color: #00d7ff\">None</span>, <span style=\"color: #00af00; text-decoration-color: #00af00\">32</span>)        │      <span style=\"color: #00af00; text-decoration-color: #00af00\">1,056</span> │ dropout_6[<span style=\"color: #00af00; text-decoration-color: #00af00\">0</span>][<span style=\"color: #00af00; text-decoration-color: #00af00\">0</span>]   │\n",
       "├─────────────────────┼───────────────────┼────────────┼───────────────────┤\n",
       "│ fake (<span style=\"color: #0087ff; text-decoration-color: #0087ff\">Dense</span>)        │ (<span style=\"color: #00d7ff; text-decoration-color: #00d7ff\">None</span>, <span style=\"color: #00af00; text-decoration-color: #00af00\">2</span>)         │         <span style=\"color: #00af00; text-decoration-color: #00af00\">66</span> │ dense_4[<span style=\"color: #00af00; text-decoration-color: #00af00\">0</span>][<span style=\"color: #00af00; text-decoration-color: #00af00\">0</span>]     │\n",
       "└─────────────────────┴───────────────────┴────────────┴───────────────────┘\n",
       "</pre>\n"
      ],
      "text/plain": [
       "┏━━━━━━━━━━━━━━━━━━━━━┳━━━━━━━━━━━━━━━━━━━┳━━━━━━━━━━━━┳━━━━━━━━━━━━━━━━━━━┓\n",
       "┃\u001b[1m \u001b[0m\u001b[1mLayer (type)       \u001b[0m\u001b[1m \u001b[0m┃\u001b[1m \u001b[0m\u001b[1mOutput Shape     \u001b[0m\u001b[1m \u001b[0m┃\u001b[1m \u001b[0m\u001b[1m   Param #\u001b[0m\u001b[1m \u001b[0m┃\u001b[1m \u001b[0m\u001b[1mConnected to     \u001b[0m\u001b[1m \u001b[0m┃\n",
       "┡━━━━━━━━━━━━━━━━━━━━━╇━━━━━━━━━━━━━━━━━━━╇━━━━━━━━━━━━╇━━━━━━━━━━━━━━━━━━━┩\n",
       "│ title (\u001b[38;5;33mInputLayer\u001b[0m)  │ (\u001b[38;5;45mNone\u001b[0m, \u001b[38;5;34m1\u001b[0m)         │          \u001b[38;5;34m0\u001b[0m │ -                 │\n",
       "├─────────────────────┼───────────────────┼────────────┼───────────────────┤\n",
       "│ text (\u001b[38;5;33mInputLayer\u001b[0m)   │ (\u001b[38;5;45mNone\u001b[0m, \u001b[38;5;34m1\u001b[0m)         │          \u001b[38;5;34m0\u001b[0m │ -                 │\n",
       "├─────────────────────┼───────────────────┼────────────┼───────────────────┤\n",
       "│ text_vectorization… │ (\u001b[38;5;45mNone\u001b[0m, \u001b[38;5;34m500\u001b[0m)       │          \u001b[38;5;34m0\u001b[0m │ title[\u001b[38;5;34m0\u001b[0m][\u001b[38;5;34m0\u001b[0m],      │\n",
       "│ (\u001b[38;5;33mTextVectorization\u001b[0m) │                   │            │ text[\u001b[38;5;34m0\u001b[0m][\u001b[38;5;34m0\u001b[0m]        │\n",
       "├─────────────────────┼───────────────────┼────────────┼───────────────────┤\n",
       "│ embedding_2         │ (\u001b[38;5;45mNone\u001b[0m, \u001b[38;5;34m500\u001b[0m, \u001b[38;5;34m3\u001b[0m)    │      \u001b[38;5;34m6,000\u001b[0m │ text_vectorizati… │\n",
       "│ (\u001b[38;5;33mEmbedding\u001b[0m)         │                   │            │ text_vectorizati… │\n",
       "├─────────────────────┼───────────────────┼────────────┼───────────────────┤\n",
       "│ dropout_4 (\u001b[38;5;33mDropout\u001b[0m) │ (\u001b[38;5;45mNone\u001b[0m, \u001b[38;5;34m500\u001b[0m, \u001b[38;5;34m3\u001b[0m)    │          \u001b[38;5;34m0\u001b[0m │ embedding_2[\u001b[38;5;34m0\u001b[0m][\u001b[38;5;34m0\u001b[0m] │\n",
       "├─────────────────────┼───────────────────┼────────────┼───────────────────┤\n",
       "│ dropout_5 (\u001b[38;5;33mDropout\u001b[0m) │ (\u001b[38;5;45mNone\u001b[0m, \u001b[38;5;34m500\u001b[0m, \u001b[38;5;34m3\u001b[0m)    │          \u001b[38;5;34m0\u001b[0m │ embedding_2[\u001b[38;5;34m1\u001b[0m][\u001b[38;5;34m0\u001b[0m] │\n",
       "├─────────────────────┼───────────────────┼────────────┼───────────────────┤\n",
       "│ global_average_poo… │ (\u001b[38;5;45mNone\u001b[0m, \u001b[38;5;34m3\u001b[0m)         │          \u001b[38;5;34m0\u001b[0m │ dropout_4[\u001b[38;5;34m0\u001b[0m][\u001b[38;5;34m0\u001b[0m]   │\n",
       "│ (\u001b[38;5;33mGlobalAveragePool…\u001b[0m │                   │            │                   │\n",
       "├─────────────────────┼───────────────────┼────────────┼───────────────────┤\n",
       "│ global_average_poo… │ (\u001b[38;5;45mNone\u001b[0m, \u001b[38;5;34m3\u001b[0m)         │          \u001b[38;5;34m0\u001b[0m │ dropout_5[\u001b[38;5;34m0\u001b[0m][\u001b[38;5;34m0\u001b[0m]   │\n",
       "│ (\u001b[38;5;33mGlobalAveragePool…\u001b[0m │                   │            │                   │\n",
       "├─────────────────────┼───────────────────┼────────────┼───────────────────┤\n",
       "│ concatenate         │ (\u001b[38;5;45mNone\u001b[0m, \u001b[38;5;34m6\u001b[0m)         │          \u001b[38;5;34m0\u001b[0m │ global_average_p… │\n",
       "│ (\u001b[38;5;33mConcatenate\u001b[0m)       │                   │            │ global_average_p… │\n",
       "├─────────────────────┼───────────────────┼────────────┼───────────────────┤\n",
       "│ dense_3 (\u001b[38;5;33mDense\u001b[0m)     │ (\u001b[38;5;45mNone\u001b[0m, \u001b[38;5;34m32\u001b[0m)        │        \u001b[38;5;34m224\u001b[0m │ concatenate[\u001b[38;5;34m0\u001b[0m][\u001b[38;5;34m0\u001b[0m] │\n",
       "├─────────────────────┼───────────────────┼────────────┼───────────────────┤\n",
       "│ dropout_6 (\u001b[38;5;33mDropout\u001b[0m) │ (\u001b[38;5;45mNone\u001b[0m, \u001b[38;5;34m32\u001b[0m)        │          \u001b[38;5;34m0\u001b[0m │ dense_3[\u001b[38;5;34m0\u001b[0m][\u001b[38;5;34m0\u001b[0m]     │\n",
       "├─────────────────────┼───────────────────┼────────────┼───────────────────┤\n",
       "│ dense_4 (\u001b[38;5;33mDense\u001b[0m)     │ (\u001b[38;5;45mNone\u001b[0m, \u001b[38;5;34m32\u001b[0m)        │      \u001b[38;5;34m1,056\u001b[0m │ dropout_6[\u001b[38;5;34m0\u001b[0m][\u001b[38;5;34m0\u001b[0m]   │\n",
       "├─────────────────────┼───────────────────┼────────────┼───────────────────┤\n",
       "│ fake (\u001b[38;5;33mDense\u001b[0m)        │ (\u001b[38;5;45mNone\u001b[0m, \u001b[38;5;34m2\u001b[0m)         │         \u001b[38;5;34m66\u001b[0m │ dense_4[\u001b[38;5;34m0\u001b[0m][\u001b[38;5;34m0\u001b[0m]     │\n",
       "└─────────────────────┴───────────────────┴────────────┴───────────────────┘\n"
      ]
     },
     "metadata": {},
     "output_type": "display_data"
    },
    {
     "data": {
      "text/html": [
       "<pre style=\"white-space:pre;overflow-x:auto;line-height:normal;font-family:Menlo,'DejaVu Sans Mono',consolas,'Courier New',monospace\"><span style=\"font-weight: bold\"> Total params: </span><span style=\"color: #00af00; text-decoration-color: #00af00\">7,346</span> (28.70 KB)\n",
       "</pre>\n"
      ],
      "text/plain": [
       "\u001b[1m Total params: \u001b[0m\u001b[38;5;34m7,346\u001b[0m (28.70 KB)\n"
      ]
     },
     "metadata": {},
     "output_type": "display_data"
    },
    {
     "data": {
      "text/html": [
       "<pre style=\"white-space:pre;overflow-x:auto;line-height:normal;font-family:Menlo,'DejaVu Sans Mono',consolas,'Courier New',monospace\"><span style=\"font-weight: bold\"> Trainable params: </span><span style=\"color: #00af00; text-decoration-color: #00af00\">7,346</span> (28.70 KB)\n",
       "</pre>\n"
      ],
      "text/plain": [
       "\u001b[1m Trainable params: \u001b[0m\u001b[38;5;34m7,346\u001b[0m (28.70 KB)\n"
      ]
     },
     "metadata": {},
     "output_type": "display_data"
    },
    {
     "data": {
      "text/html": [
       "<pre style=\"white-space:pre;overflow-x:auto;line-height:normal;font-family:Menlo,'DejaVu Sans Mono',consolas,'Courier New',monospace\"><span style=\"font-weight: bold\"> Non-trainable params: </span><span style=\"color: #00af00; text-decoration-color: #00af00\">0</span> (0.00 B)\n",
       "</pre>\n"
      ],
      "text/plain": [
       "\u001b[1m Non-trainable params: \u001b[0m\u001b[38;5;34m0\u001b[0m (0.00 B)\n"
      ]
     },
     "metadata": {},
     "output_type": "display_data"
    },
    {
     "name": "stdout",
     "output_type": "stream",
     "text": [
      "\u001b[1m90/90\u001b[0m \u001b[32m━━━━━━━━━━━━━━━━━━━━\u001b[0m\u001b[37m\u001b[0m \u001b[1m0s\u001b[0m 2ms/step - accuracy: 0.9848 - loss: 0.0361\n"
     ]
    },
    {
     "data": {
      "image/png": "[encoded data removed]",
      "text/plain": [
       "<Figure size 640x480 with 1 Axes>"
      ]
     },
     "metadata": {},
     "output_type": "display_data"
    }
   ],
   "source": [
    "\n",
    "# Establish shared text vectorization layer\n",
    "# Necessary to use shared embedding layer later\n",
    "vectorize_layer = tf.keras.layers.TextVectorization(\n",
    "    standardize=standardization,\n",
    "    max_tokens=size_vocabulary,\n",
    "    output_mode='int',\n",
    "    output_sequence_length=500\n",
    ")\n",
    "\n",
    "# Adapt the vectorization layer to the dataset\n",
    "all_titles_texts = train.map(lambda x, y: tf.concat([x[\"title\"], x[\"text\"]], axis=0))\n",
    "vectorize_layer.adapt(all_titles_texts)\n",
    "\n",
    "# Shared Embedding layer\n",
    "embedding_layer = tf.keras.layers.Embedding(input_dim=size_vocabulary, output_dim=3)\n",
    "\n",
    "# Define input layers\n",
    "title_input = tf.keras.Input(shape=(1,), name=\"title\", dtype=tf.string)\n",
    "text_input = tf.keras.Input(shape=(1,), name=\"text\", dtype=tf.string)\n",
    "\n",
    "# Apply shared TextVectorization and Embedding layers to input layers\n",
    "def vectorize_and_embed(input_text):\n",
    "    '''\n",
    "    Function to streamline the vectorization and embedding\n",
    "    Take in an input data layer and perform both operations, return the embedded and vectorized layer\n",
    "    '''\n",
    "    vectorized_text = vectorize_layer(input_text)\n",
    "    embedded_text = embedding_layer(vectorized_text)\n",
    "    return embedded_text\n",
    "\n",
    "title_features = vectorize_and_embed(title_input)\n",
    "text_features = vectorize_and_embed(text_input)\n",
    "\n",
    "# Dropout and pooling layers\n",
    "title_features = tf.keras.layers.Dropout(0.2)(title_features)\n",
    "text_features = tf.keras.layers.Dropout(0.2)(text_features)\n",
    "title_features = tf.keras.layers.GlobalAveragePooling1D()(title_features)\n",
    "text_features = tf.keras.layers.GlobalAveragePooling1D()(text_features)\n",
    "\n",
    "# Concatenate features\n",
    "concatenated_features = tf.keras.layers.concatenate([title_features, text_features], axis=1)\n",
    "\n",
    "# Dense layers\n",
    "dense1 = tf.keras.layers.Dense(32, activation='relu')(concatenated_features)\n",
    "dropout = tf.keras.layers.Dropout(0.2)(dense1)\n",
    "dense2 = tf.keras.layers.Dense(32, activation='relu')(dropout)\n",
    "\n",
    "# Output layer\n",
    "output = tf.keras.layers.Dense(2, name=\"fake\")(dense2)\n",
    "\n",
    "# Define model\n",
    "model = tf.keras.Model(inputs=[title_input, text_input], outputs=output)\n",
    "\n",
    "# Compile model\n",
    "model.compile(loss=tf.keras.losses.SparseCategoricalCrossentropy(from_logits=True),\n",
    "              optimizer='adam',\n",
    "              metrics=['accuracy'])\n",
    "\n",
    "# Model summary\n",
    "model.summary()\n",
    "\n",
    "#Save a copy of the model for later to use in next step!! then we will retrain and test on new data\n",
    "model_copy = model\n",
    "\n",
    "# Train the model\n",
    "history = model.fit(train, epochs=10, validation_data=test, verbose = 0)\n",
    "\n",
    "#evaluate accuracy on our 20% testing data (will perform on new testing data for the \"best\" model later)\n",
    "model.evaluate(test)\n",
    "\n",
    "#plot results\n",
    "plt.plot(history.history[\"accuracy\"], label=\"training\")\n",
    "plt.plot(history.history[\"val_accuracy\"], label=\"validation\")\n",
    "plt.xlabel(\"Epoch\")\n",
    "plt.ylabel(\"Accuracy\")\n",
    "plt.legend()\n",
    "plt.show()\n"
   ]
  },
  {
   "cell_type": "markdown",
   "id": "f125fa10",
   "metadata": {},
   "source": [
    "Commentary:\n",
    "- This time I used the functional API rather than sequential in order to incorporate both title and text data into the model training\n",
    "- Because I used a shared embedding layer, I also did a combined text vectorization instead of vectorizing each seperately as before\n",
    "- I played around with adding two dense layers, as well as dropout layers with the pooling layers and found the combination I used to have the best results. We can see from the graph that the model is trained extremely quickly (after just a few epochs) and reaches the highest accuracy we have seen thus far."
   ]
  },
  {
   "cell_type": "markdown",
   "id": "91dd73e6",
   "metadata": {},
   "source": [
    "## Three Model Comparison"
   ]
  },
  {
   "cell_type": "markdown",
   "id": "0f7701b1",
   "metadata": {},
   "source": [
    "Algorithms should use both title and text when seeking to detect fake news. I am able to clearly come to this conclusion after seeing that my combined model of both title and text achieved the highest accuracy score when compared with my models that just use title or text individually.\n",
    "\n",
    "Furthermore, this combined model preforms extremely well, consistently scoring at around a ***98%*** accuracy thus far. We will see below if this high accuracy extends to unseen testing data."
   ]
  },
  {
   "cell_type": "markdown",
   "id": "a9ad9444",
   "metadata": {},
   "source": [
    "## Model Evaluation\n",
    "\n",
    "Now we’ll test model performance on unseen test data. For this part, I will only focus on the best model (combined title and text).\n",
    "\n",
    "The test data is provided here:\n",
    "\n",
    "    test_url = \"https://github.com/PhilChodrow/PIC16b/blob/master/datasets/fake_news_test.csv?raw=true\""
   ]
  },
  {
   "cell_type": "code",
   "execution_count": 9,
   "id": "41b4aef2",
   "metadata": {},
   "outputs": [
    {
     "name": "stdout",
     "output_type": "stream",
     "text": [
      "Test Accuracy after epoch 1: 0.9805\n",
      "Test Accuracy after epoch 2: 0.9807\n",
      "Test Accuracy after epoch 3: 0.9801\n",
      "Test Accuracy after epoch 4: 0.9775\n",
      "Test Accuracy after epoch 5: 0.9807\n",
      "Test Accuracy after epoch 6: 0.9785\n",
      "Test Accuracy after epoch 7: 0.9771\n",
      "Test Accuracy after epoch 8: 0.9808\n",
      "Test Accuracy after epoch 9: 0.9813\n",
      "Test Accuracy after epoch 10: 0.9800\n"
     ]
    }
   ],
   "source": [
    "#download data\n",
    "test_data = pd.read_csv(f'https://github.com/PhilChodrow/PIC16b/blob/master/datasets/fake_news_test.csv?raw=true')\n",
    "\n",
    "#make dataset using function defined earlier\n",
    "test_dataset = make_dataset(test_data)\n",
    "\n",
    "for epoch in range(10):\n",
    "    \n",
    "    # Train for one epoch (use the untrained model found in previous step)\n",
    "    model_copy.fit(train, epochs=1, validation_data=test_dataset, verbose=0)\n",
    "    \n",
    "    # Evaluate accuracy on the test dataset\n",
    "    loss, accuracy = model_copy.evaluate(test_dataset, verbose=0)\n",
    "    \n",
    "    #print accuracy on validation data\n",
    "    print(f'Test Accuracy after epoch {epoch+1}: {accuracy:.4f}')\n",
    "    "
   ]
  },
  {
   "cell_type": "markdown",
   "id": "1c4d8380",
   "metadata": {},
   "source": [
    "Our accuracy remains very high around 98%, which indicates that our model can be used in the real-world at very high reliability."
   ]
  }
 ],
 "metadata": {
  "kernelspec": {
   "display_name": "Python 3 (ipykernel)",
   "language": "python",
   "name": "python3"
  },
  "language_info": {
   "codemirror_mode": {
    "name": "ipython",
    "version": 3
   },
   "file_extension": ".py",
   "mimetype": "text/x-python",
   "name": "python",
   "nbconvert_exporter": "python",
   "pygments_lexer": "ipython3",
   "version": "3.11.7"
  }
 },
 "nbformat": 4,
 "nbformat_minor": 5
}
